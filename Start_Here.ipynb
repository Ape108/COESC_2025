{
 "cells": [
  {
   "cell_type": "markdown",
   "metadata": {},
   "source": [
    "# Geospatial Data Engineering\n",
    "\n",
    "This course provides an overview of theoretical, conceptual, foundational, and practical issues encountered when working with geospatial data for both vector and raster data models.  A focus is on incorporating and integrating geospatial data into the data science lifecycle as well as the concept of ‘thinking spatially’. Data discovery, access, indexing, retrieval, and other technical concepts are investigated. Important data storage paradigms such as enterprise geospatial databases and desktop GIS systems are explored along with assembling scalable computational tools beyond desktop computing for Geospatial Big Data. Core issues explored concerning geospatial data include ethical considerations, storage, management, integration, exploitation, and multi-data set entity resolution / correlation. "
   ]
  },
  {
   "cell_type": "markdown",
   "metadata": {},
   "source": [
    "## Course Module Schedule\n",
    "\n",
    "1. [Introduction to Geospatial Data](./module1/Schedule.ipynb)\n",
    "2. [Geospatial Database Systems - PostGIS](./module2/Schedule.ipynb)\n",
    "3. [Vector Data](./module3/Schedule.ipynb)\n",
    "4. [Vector Data Continued](./module4/Schedule.ipynb)\n",
    "5. [Raster Data](./module5/Schedule.ipynb)\n",
    "6. [Raster Data Continued](./module6/Schedule.ipynb)\n",
    "7. [Visualization](./module7/Schedule.ipynb)\n",
    "\n"
   ]
  },
  {
   "cell_type": "markdown",
   "metadata": {},
   "source": [
    "## Technologies\n",
    "\n",
    "  * Python Programming language\n",
    "  * Various Python Geospatial Libraries"
   ]
  },
  {
   "cell_type": "markdown",
   "metadata": {},
   "source": [
    "### The Ethic of Mutual Aid\n",
    "\n",
    "In each module it is important to ask and answer questions. \n",
    "All students should ask. Everyone should try to answer at least once. \n",
    "We learn by solving our own problems and helping others solve theirs.\n",
    "Social learning theory helps to explain the mechanics of how communicating with others aids learning.\n",
    "It suggests that people learn from one another, via observation, imitation, and modeling. \n",
    "The theory has often been called a bridge between behaviorist and cognitive learning theories because it encompasses attention, memory, and motivation. \n",
    "If you think about the most rewarding learning experiences in your life, \n",
    "its likely you will recall a time when you struggled, sought help, provided help and ultimately achieved your aims. \n",
    "And probably helped others achieve theirs.\n",
    "\n",
    "The instructors and TAs will help the discussions and mutual aid stay on track.\n",
    "We look forward to working with all of you!\n",
    "\n",
    "Mutual aid is a place to discuss the topic and issue you are having. It is not a place to post code, working or not for feedback or solutions. Posting code is counterproductive  in this type of Mutual Aid environment. "
   ]
  },
  {
   "cell_type": "markdown",
   "metadata": {},
   "source": [
    "### Resources\n",
    "\n",
    "Each module will have reading links and resources. Please consult the weekly Schedule notebook for details and modular particulars. "
   ]
  }
 ],
 "metadata": {
  "kernelspec": {
   "display_name": "Python 3",
   "language": "python",
   "name": "python3"
  },
  "language_info": {
   "codemirror_mode": {
    "name": "ipython",
    "version": 3
   },
   "file_extension": ".py",
   "mimetype": "text/x-python",
   "name": "python",
   "nbconvert_exporter": "python",
   "pygments_lexer": "ipython3",
   "version": "3.7.3"
  }
 },
 "nbformat": 4,
 "nbformat_minor": 2
}
